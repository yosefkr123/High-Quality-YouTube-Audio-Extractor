{
  "nbformat": 4,
  "nbformat_minor": 0,
  "metadata": {
    "colab": {
      "provenance": []
    },
    "kernelspec": {
      "name": "python3",
      "display_name": "Python 3"
    },
    "language_info": {
      "name": "python"
    }
  },
  "cells": [
    {
      "cell_type": "code",
      "execution_count": 2,
      "metadata": {
        "colab": {
          "base_uri": "https://localhost:8080/"
        },
        "id": "_TtV-XD0Lz8k",
        "outputId": "74e30603-6bbb-4bcf-bb25-05923960a538"
      },
      "outputs": [
        {
          "output_type": "stream",
          "name": "stdout",
          "text": [
            "Collecting pytube\n",
            "  Downloading pytube-15.0.0-py3-none-any.whl (57 kB)\n",
            "\u001b[2K     \u001b[90m━━━━━━━━━━━━━━━━━━━━━━━━━━━━━━━━━━━━━━━━\u001b[0m \u001b[32m57.6/57.6 kB\u001b[0m \u001b[31m1.7 MB/s\u001b[0m eta \u001b[36m0:00:00\u001b[0m\n",
            "\u001b[?25hInstalling collected packages: pytube\n",
            "Successfully installed pytube-15.0.0\n",
            "Collecting unidecode\n",
            "  Downloading Unidecode-1.3.7-py3-none-any.whl (235 kB)\n",
            "\u001b[2K     \u001b[90m━━━━━━━━━━━━━━━━━━━━━━━━━━━━━━━━━━━━━━━━\u001b[0m \u001b[32m235.5/235.5 kB\u001b[0m \u001b[31m4.4 MB/s\u001b[0m eta \u001b[36m0:00:00\u001b[0m\n",
            "\u001b[?25hInstalling collected packages: unidecode\n",
            "Successfully installed unidecode-1.3.7\n"
          ]
        }
      ],
      "source": [
        "! pip install pytube\n",
        "! pip install unidecode"
      ]
    },
    {
      "cell_type": "code",
      "source": [
        "import re\n",
        "import os\n",
        "from pytube import YouTube\n",
        "from pytube.exceptions import RegexMatchError, VideoUnavailable, PytubeError\n",
        "from unidecode import unidecode\n",
        "\n",
        "# This function is used to check if the given YouTube URL is valid.\n",
        "def is_valid_youtube_url(url):\n",
        "    # Regular expression to match YouTube URLs with or without \"si\" query parameter\n",
        "    regex = r'^https?://(www\\.)?youtu\\.?be(\\.com)?/[\\w-]+(\\?si=[\\w-]+)?$'\n",
        "    return re.match(regex, url) is not None\n",
        "\n",
        "# This function is used to download audio from a YouTube video.\n",
        "def download_song(url):\n",
        "    if not is_valid_youtube_url(url):\n",
        "        print(\"Invalid YouTube URL.\")\n",
        "        return\n",
        "\n",
        "    try:\n",
        "        video = YouTube(url)  # Initialize a YouTube object with the given URL.\n",
        "        streams = video.streams.filter(only_audio=True).order_by('abr').desc()\n",
        "\n",
        "        if not streams:\n",
        "            print(\"No suitable audio streams found.\")\n",
        "            return\n",
        "    except (RegexMatchError, VideoUnavailable, PytubeError) as e:\n",
        "        print(f\"Error while fetching video: {str(e)}\")\n",
        "        return\n",
        "\n",
        "    stream = streams.first()  # Select the audio stream with the highest quality.\n",
        "    video_title = unidecode(video.title)  # Convert the video title to ASCII to avoid character issues.\n",
        "    audio_filename = f\"{video_title}.mp3\"  # Create an audio file name with the video title.\n",
        "\n",
        "    try:\n",
        "        stream.download(output_path=\".\", filename=audio_filename)  # Download the audio to the current directory with the appropriate name.\n",
        "        print(f\"Highest quality audio ({audio_filename}) successfully downloaded.\")\n",
        "    except Exception as e:\n",
        "        print(f\"Error while downloading audio: {str(e)}\")\n",
        "\n",
        "if __name__ == \"__main__\":\n",
        "    url = input(\"Enter the YouTube video URL: \")\n",
        "    download_song(url)  # Call the download_song function to download audio from the provided URL."
      ],
      "metadata": {
        "colab": {
          "base_uri": "https://localhost:8080/"
        },
        "id": "vKZRFOOZNFGE",
        "outputId": "89fcb0c3-dc8f-4700-9c0c-5dbdca2a1f4f"
      },
      "execution_count": 4,
      "outputs": [
        {
          "output_type": "stream",
          "name": "stdout",
          "text": [
            "Enter the YouTube video URL: https://youtu.be/Y0zsrCNAB7E?si=pvnWntCVymF69WUT\n",
            "Highest quality audio (Kupercaya JanjiMu (Live).mp3) successfully downloaded.\n"
          ]
        }
      ]
    }
  ]
}